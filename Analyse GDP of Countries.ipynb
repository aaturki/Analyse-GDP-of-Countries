{
 "cells": [
  {
   "cell_type": "markdown",
   "metadata": {},
   "source": [
    "## Analyse GDP of Countries"
   ]
  },
  {
   "cell_type": "markdown",
   "metadata": {},
   "source": [
    "**1.View and add the dataset**"
   ]
  },
  {
   "cell_type": "code",
   "execution_count": 1,
   "metadata": {},
   "outputs": [],
   "source": [
    "#Import numpy library.\n",
    "import numpy as np\n",
    "countries = np.array(['Algeria','Angola','Argentina','Australia','Austria','Bahamas','Bangladesh','Belarus','Belgium','Bhutan','Brazil','Bulgaria','Cambodia','Cameroon','Chile','China','Colombia','Cyprus','Denmark','El Salvador','Estonia','Ethiopia','Fiji','Finland','France','Georgia','Ghana','Grenada','Guinea','Haiti','Honduras','Hungary','India','Indonesia','Ireland','Italy','Japan','Kenya', 'South Korea','Liberia','Malaysia','Mexico', 'Morocco','Nepal','New Zealand','Norway','Pakistan', 'Peru','Qatar','Russia','Singapore','South Africa','Spain','Sweden','Switzerland','Thailand', 'United Arab Emirates','United Kingdom','United States','Uruguay','Venezuela','Vietnam','Zimbabwe'])\n",
    "gdp_per_capita = np.array([2255.225482,629.9553062,11601.63022,25306.82494,27266.40335,19466.99052,588.3691778,2890.345675,24733.62696,1445.760002,4803.398244,2618.876037,590.4521124,665.7982328,7122.938458,2639.54156,3362.4656,15378.16704,30860.12808,2579.115607,6525.541272,229.6769525,2242.689259,27570.4852,23016.84778,1334.646773,402.6953275,6047.200797,394.1156638,385.5793827,1414.072488,5745.981529,837.7464011,1206.991065,27715.52837,18937.24998,39578.07441,478.2194906,16684.21278,279.2204061,5345.213415,6288.25324,1908.304416,274.8728621,14646.42094,40034.85063,672.1547506,3359.517402,36152.66676,3054.727742,33529.83052,3825.093781,15428.32098,33630.24604,39170.41371,2699.123242,21058.43643,28272.40661,37691.02733,9581.05659,5671.912202,757.4009286,347.7456605])\n",
    "\n"
   ]
  },
  {
   "cell_type": "code",
   "execution_count": 2,
   "metadata": {},
   "outputs": [],
   "source": [
    "#Manually add the dataset.\n",
    "max_gdp_per_capita = gdp_per_capita.argmax()"
   ]
  },
  {
   "cell_type": "markdown",
   "metadata": {},
   "source": [
    "**2.Find and print the name of the country with the highest GDP**"
   ]
  },
  {
   "cell_type": "code",
   "execution_count": 3,
   "metadata": {},
   "outputs": [],
   "source": [
    "#Use the argmax() method to find the highest GDP\n",
    "country_with_max_gdp_per_capita = countries[max_gdp_per_capita]"
   ]
  },
  {
   "cell_type": "code",
   "execution_count": 4,
   "metadata": {},
   "outputs": [
    {
     "data": {
      "text/plain": [
       "'Norway'"
      ]
     },
     "execution_count": 4,
     "metadata": {},
     "output_type": "execute_result"
    }
   ],
   "source": [
    "#Print the name of the country\n",
    "country_with_max_gdp_per_capita"
   ]
  },
  {
   "cell_type": "markdown",
   "metadata": {},
   "source": [
    "**3.Find and print the name of the country with the lowest GDP**"
   ]
  },
  {
   "cell_type": "code",
   "execution_count": 5,
   "metadata": {},
   "outputs": [],
   "source": [
    "#Use the argmin() method to find the lowest GDP\n",
    "min_gdp_per_capita = gdp_per_capita.argmin()"
   ]
  },
  {
   "cell_type": "code",
   "execution_count": 6,
   "metadata": {},
   "outputs": [
    {
     "data": {
      "text/plain": [
       "'Ethiopia'"
      ]
     },
     "execution_count": 6,
     "metadata": {},
     "output_type": "execute_result"
    }
   ],
   "source": [
    "#Print the name of the country\n",
    "country_with_min_gdp_per_capita = countries[min_gdp_per_capita]\n",
    "country_with_min_gdp_per_capita"
   ]
  },
  {
   "cell_type": "markdown",
   "metadata": {},
   "source": [
    "**4.Print out text and input values iteratively**"
   ]
  },
  {
   "cell_type": "code",
   "execution_count": 7,
   "metadata": {},
   "outputs": [
    {
     "name": "stdout",
     "output_type": "stream",
     "text": [
      "eculating country Algeria\n",
      "eculating country Angola\n",
      "eculating country Argentina\n",
      "eculating country Australia\n",
      "eculating country Austria\n",
      "eculating country Bahamas\n",
      "eculating country Bangladesh\n",
      "eculating country Belarus\n",
      "eculating country Belgium\n",
      "eculating country Bhutan\n",
      "eculating country Brazil\n",
      "eculating country Bulgaria\n",
      "eculating country Cambodia\n",
      "eculating country Cameroon\n",
      "eculating country Chile\n",
      "eculating country China\n",
      "eculating country Colombia\n",
      "eculating country Cyprus\n",
      "eculating country Denmark\n",
      "eculating country El Salvador\n",
      "eculating country Estonia\n",
      "eculating country Ethiopia\n",
      "eculating country Fiji\n",
      "eculating country Finland\n",
      "eculating country France\n",
      "eculating country Georgia\n",
      "eculating country Ghana\n",
      "eculating country Grenada\n",
      "eculating country Guinea\n",
      "eculating country Haiti\n",
      "eculating country Honduras\n",
      "eculating country Hungary\n",
      "eculating country India\n",
      "eculating country Indonesia\n",
      "eculating country Ireland\n",
      "eculating country Italy\n",
      "eculating country Japan\n",
      "eculating country Kenya\n",
      "eculating country South Korea\n",
      "eculating country Liberia\n",
      "eculating country Malaysia\n",
      "eculating country Mexico\n",
      "eculating country Morocco\n",
      "eculating country Nepal\n",
      "eculating country New Zealand\n",
      "eculating country Norway\n",
      "eculating country Pakistan\n",
      "eculating country Peru\n",
      "eculating country Qatar\n",
      "eculating country Russia\n",
      "eculating country Singapore\n",
      "eculating country South Africa\n",
      "eculating country Spain\n",
      "eculating country Sweden\n",
      "eculating country Switzerland\n",
      "eculating country Thailand\n",
      "eculating country United Arab Emirates\n",
      "eculating country United Kingdom\n",
      "eculating country United States\n",
      "eculating country Uruguay\n",
      "eculating country Venezuela\n",
      "eculating country Vietnam\n",
      "eculating country Zimbabwe\n"
     ]
    }
   ],
   "source": [
    "#Use a for loop to print the required output\n",
    "for country in countries:\n",
    "    print('eculating country {}'.format(country))"
   ]
  },
  {
   "cell_type": "markdown",
   "metadata": {},
   "source": [
    "**5.Print out the entire list of the countries with their GDPs**"
   ]
  },
  {
   "cell_type": "code",
   "execution_count": 8,
   "metadata": {},
   "outputs": [
    {
     "name": "stdout",
     "output_type": "stream",
     "text": [
      "country Algeria per capita gdp is 2255.225482 \n",
      "country Angola per capita gdp is 629.9553062 \n",
      "country Argentina per capita gdp is 11601.63022 \n",
      "country Australia per capita gdp is 25306.82494 \n",
      "country Austria per capita gdp is 27266.40335 \n",
      "country Bahamas per capita gdp is 19466.99052 \n",
      "country Bangladesh per capita gdp is 588.3691778 \n",
      "country Belarus per capita gdp is 2890.345675 \n",
      "country Belgium per capita gdp is 24733.62696 \n",
      "country Bhutan per capita gdp is 1445.760002 \n",
      "country Brazil per capita gdp is 4803.398244 \n",
      "country Bulgaria per capita gdp is 2618.876037 \n",
      "country Cambodia per capita gdp is 590.4521124 \n",
      "country Cameroon per capita gdp is 665.7982328 \n",
      "country Chile per capita gdp is 7122.938458 \n",
      "country China per capita gdp is 2639.54156 \n",
      "country Colombia per capita gdp is 3362.4656 \n",
      "country Cyprus per capita gdp is 15378.16704 \n",
      "country Denmark per capita gdp is 30860.12808 \n",
      "country El Salvador per capita gdp is 2579.115607 \n",
      "country Estonia per capita gdp is 6525.541272 \n",
      "country Ethiopia per capita gdp is 229.6769525 \n",
      "country Fiji per capita gdp is 2242.689259 \n",
      "country Finland per capita gdp is 27570.4852 \n",
      "country France per capita gdp is 23016.84778 \n",
      "country Georgia per capita gdp is 1334.646773 \n",
      "country Ghana per capita gdp is 402.6953275 \n",
      "country Grenada per capita gdp is 6047.200797 \n",
      "country Guinea per capita gdp is 394.1156638 \n",
      "country Haiti per capita gdp is 385.5793827 \n",
      "country Honduras per capita gdp is 1414.072488 \n",
      "country Hungary per capita gdp is 5745.981529 \n",
      "country India per capita gdp is 837.7464011 \n",
      "country Indonesia per capita gdp is 1206.991065 \n",
      "country Ireland per capita gdp is 27715.52837 \n",
      "country Italy per capita gdp is 18937.24998 \n",
      "country Japan per capita gdp is 39578.07441 \n",
      "country Kenya per capita gdp is 478.2194906 \n",
      "country South Korea per capita gdp is 16684.21278 \n",
      "country Liberia per capita gdp is 279.2204061 \n",
      "country Malaysia per capita gdp is 5345.213415 \n",
      "country Mexico per capita gdp is 6288.25324 \n",
      "country Morocco per capita gdp is 1908.304416 \n",
      "country Nepal per capita gdp is 274.8728621 \n",
      "country New Zealand per capita gdp is 14646.42094 \n",
      "country Norway per capita gdp is 40034.85063 \n",
      "country Pakistan per capita gdp is 672.1547506 \n",
      "country Peru per capita gdp is 3359.517402 \n",
      "country Qatar per capita gdp is 36152.66676 \n",
      "country Russia per capita gdp is 3054.727742 \n",
      "country Singapore per capita gdp is 33529.83052 \n",
      "country South Africa per capita gdp is 3825.093781 \n",
      "country Spain per capita gdp is 15428.32098 \n",
      "country Sweden per capita gdp is 33630.24604 \n",
      "country Switzerland per capita gdp is 39170.41371 \n",
      "country Thailand per capita gdp is 2699.123242 \n",
      "country United Arab Emirates per capita gdp is 21058.43643 \n",
      "country United Kingdom per capita gdp is 28272.40661 \n",
      "country United States per capita gdp is 37691.02733 \n",
      "country Uruguay per capita gdp is 9581.05659 \n",
      "country Venezuela per capita gdp is 5671.912202 \n",
      "country Vietnam per capita gdp is 757.4009286 \n",
      "country Zimbabwe per capita gdp is 347.7456605 \n"
     ]
    }
   ],
   "source": [
    "#Use a for loop to print the required list\n",
    "for i in range(len(countries)):\n",
    "    country = countries[i]\n",
    "    country_gdp_per_capita = gdp_per_capita[i]\n",
    "    print('country {} per capita gdp is {} '.format(country,country_gdp_per_capita))"
   ]
  },
  {
   "cell_type": "markdown",
   "metadata": {},
   "source": [
    "**6.Print the highest GDP value, lowest GDP value, mean GDP value, standardized GDP value, and the sum of all the GDPs**"
   ]
  },
  {
   "cell_type": "code",
   "execution_count": 9,
   "metadata": {},
   "outputs": [
    {
     "name": "stdout",
     "output_type": "stream",
     "text": [
      "40034.85063\n"
     ]
    }
   ],
   "source": [
    "print(gdp_per_capita.max())"
   ]
  },
  {
   "cell_type": "code",
   "execution_count": 10,
   "metadata": {},
   "outputs": [
    {
     "name": "stdout",
     "output_type": "stream",
     "text": [
      "229.6769525\n"
     ]
    }
   ],
   "source": [
    "print(gdp_per_capita.min())"
   ]
  },
  {
   "cell_type": "code",
   "execution_count": 11,
   "metadata": {},
   "outputs": [
    {
     "name": "stdout",
     "output_type": "stream",
     "text": [
      "11289.409271639683\n"
     ]
    }
   ],
   "source": [
    "print(gdp_per_capita.mean())"
   ]
  },
  {
   "cell_type": "code",
   "execution_count": 12,
   "metadata": {},
   "outputs": [
    {
     "name": "stdout",
     "output_type": "stream",
     "text": [
      "12743.828910617945\n"
     ]
    }
   ],
   "source": [
    "print(gdp_per_capita.std())"
   ]
  },
  {
   "cell_type": "code",
   "execution_count": 13,
   "metadata": {},
   "outputs": [
    {
     "name": "stdout",
     "output_type": "stream",
     "text": [
      "711232.7841133\n"
     ]
    }
   ],
   "source": [
    "print(gdp_per_capita.sum())"
   ]
  },
  {
   "cell_type": "code",
   "execution_count": null,
   "metadata": {},
   "outputs": [],
   "source": []
  }
 ],
 "metadata": {
  "kernelspec": {
   "display_name": "Python 3",
   "language": "python",
   "name": "python3"
  },
  "language_info": {
   "codemirror_mode": {
    "name": "ipython",
    "version": 3
   },
   "file_extension": ".py",
   "mimetype": "text/x-python",
   "name": "python",
   "nbconvert_exporter": "python",
   "pygments_lexer": "ipython3",
   "version": "3.7.4"
  }
 },
 "nbformat": 4,
 "nbformat_minor": 2
}
